 
  {
   "cell_type": "code",
   "execution_count": 13,
   "metadata": {},
   "outputs": [
    {
     "name": "stdout",
     "output_type": "stream",
     "text": [
      "finalized_model.sav  intro_to_python_data_science_on_aws.ipynb\r\n"
     ]
    },
    {
     "data": {
      "text/plain": [
       "s3.Object(bucket_name='pickledemo', key='finalized_model.sav')"
      ]
     },
     "execution_count": 13,
     "metadata": {},
     "output_type": "execute_result"
    }
   ],
   "source": [
    "#code to save your model to disk and then to s3\n",
    "import pickle\n",
    "local_path = \"/home/ubuntu\" # temp path to export your model\n",
    "bucket_name = \"pickledemo\" # s3 key to save your network to\n",
    "\n",
    "# save the model to disk\n",
    "filename = 'finalized_model.sav'\n",
    "pickle.dump(clf, open(filename, 'wb'))\n",
    "#you should now see your finalized_model.sav in the file path\n",
    "#the ls command prints the contents of this notebook's root folder\n",
    "!ls\n",
    " \n",
    "# Upload to S3\n",
    "#TO GET THIS WORKING, YOU MUST ASSIGN AN ADMIN ROLE TO YOUR EC2 INSTANCE\n",
    "import boto3\n",
    "s3 = boto3.resource('s3')\n",
    "s3.Bucket(bucket_name).put_object(Key='finalized_model.sav', Body=open('finalized_model.sav'))"
   ]
  },
  {
   "cell_type": "code",
   "execution_count": 120,
   "metadata": {},
   "outputs": [
    {
     "name": "stdout",
     "output_type": "stream",
     "text": [
      "0.973684210526\n"
     ]
    }
   ],
   "source": [
    "# some time later...\n",
    " \n",
    "# load the model from s3 and make new predictions\n",
    "s3.Bucket(bucket_name).download_file(filename, 'my_local_pickle.sav')\n",
    "loaded_model = pickle.load(open('my_local_pickle.sav', 'rb'))\n",
    "result = loaded_model.score(X_test, y_test)\n",
    "print(result)"
   ]
  },
  {
   "cell_type": "code",
   "execution_count": 1,
   "metadata": {
    "collapsed": true
   },
   "outputs": [],
   "source": [
    "#note that you can now call this model saved in S3 from ANY internet connected location\n",
    "\n",
    "#now push your notebook to your github page and submit the link as your homework\n",
    "#instructions: https://www.howtoforge.com/tutorial/install-git-and-github-on-ubuntu-14.04/\n",
    "#identify your username\n",
    "!git config --global user.name \"kljohnson721\"\n",
    "#make a local git repository\n",
    "!git init myrepo\n",
    "#navigate to the repo\n",
    "cd myrepo/\n",
    "#create a README\n",
    "!echo \"this is my README file\" >>README\n",
    "#move your notebook into the git folder (you will need to re-enter your notebook interface after moving the file)\n",
    "!mv /home/ubuntu/intro_to_python_data_science_on_aws.ipynb /home/ubuntu/myrepo/\n",
    "#make a new repo for yourself within your github.com account\n",
    "#add the files that you just made to tracking\n",
    "!git add intro_to_python_data_science_on_aws.ipynb\n",
    "!git add README\n",
    "#then remote add the github repo that you just made\n",
    "!git remote add origin https://github.com/kljohnson721/ADS_Class.git\n",
    "#then push your files to the git account\n",
    "!git push origin master\n",
    "#you will be prompted to enter your security credentials\n",
    "\n",
    "\n",
    "#if this isn't working for you, another option is to download the file to your local machine using the following:\n",
    "#sudo scp -r -i 'yourkeypair.pem' ubuntu@publicDNS:/home/ubuntu/intro_to_python_data_science_on_aws.ipynb localpath\n",
    "#windows people should use something like FileZilla to transfer files from a linux EC2 server to a local windows machine\n"
   ]
  },
  {
   "cell_type": "code",
   "execution_count": null,
   "metadata": {
    "collapsed": true
   },
   "outputs": [],
   "source": []
  }
 ],
 "metadata": {
  "kernelspec": {
   "display_name": "Python 2",
   "language": "python",
   "name": "python2"
  },
  "language_info": {
   "codemirror_mode": {
    "name": "ipython",
    "version": 2
   },
   "file_extension": ".py",
   "mimetype": "text/x-python",
   "name": "python",
   "nbconvert_exporter": "python",
   "pygments_lexer": "ipython2",
   "version": "2.7.12"
  }
 },
 "nbformat": 4,
 "nbformat_minor": 2
}
